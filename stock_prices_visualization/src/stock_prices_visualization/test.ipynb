{
 "cells": [
  {
   "cell_type": "code",
   "execution_count": 1,
   "id": "68c2f08b",
   "metadata": {},
   "outputs": [],
   "source": [
    "import yfinance as yf"
   ]
  },
  {
   "cell_type": "code",
   "execution_count": 8,
   "id": "8fb7ac43",
   "metadata": {},
   "outputs": [
    {
     "name": "stderr",
     "output_type": "stream",
     "text": [
      "HTTP Error 404: \n",
      "HTTP Error 404: \n",
      "$MICROSOFT: possibly delisted; no price data found  (period=1mo)\n"
     ]
    },
    {
     "ename": "IndexError",
     "evalue": "tuple index out of range",
     "output_type": "error",
     "traceback": [
      "\u001b[31m---------------------------------------------------------------------------\u001b[39m",
      "\u001b[31mIndexError\u001b[39m                                Traceback (most recent call last)",
      "\u001b[36mCell\u001b[39m\u001b[36m \u001b[39m\u001b[32mIn[8]\u001b[39m\u001b[32m, line 7\u001b[39m\n\u001b[32m      5\u001b[39m dat.quarterly_income_stmt\n\u001b[32m      6\u001b[39m dat.history(period=\u001b[33m'\u001b[39m\u001b[33m1mo\u001b[39m\u001b[33m'\u001b[39m)\n\u001b[32m----> \u001b[39m\u001b[32m7\u001b[39m dat.option_chain(\u001b[43mdat\u001b[49m\u001b[43m.\u001b[49m\u001b[43moptions\u001b[49m\u001b[43m[\u001b[49m\u001b[32;43m0\u001b[39;49m\u001b[43m]\u001b[49m).calls\n",
      "\u001b[31mIndexError\u001b[39m: tuple index out of range"
     ]
    }
   ],
   "source": [
    "dat = yf.Ticker(\"Microsoft\")\n",
    "dat.info\n",
    "dat.calendar\n",
    "dat.analyst_price_targets\n",
    "dat.quarterly_income_stmt\n",
    "dat.history(period='1mo')\n",
    "dat.option_chain(dat.options[0]).calls"
   ]
  },
  {
   "cell_type": "code",
   "execution_count": null,
   "id": "440dc31a",
   "metadata": {},
   "outputs": [],
   "source": []
  }
 ],
 "metadata": {
  "kernelspec": {
   "display_name": "crewai",
   "language": "python",
   "name": "python3"
  },
  "language_info": {
   "codemirror_mode": {
    "name": "ipython",
    "version": 3
   },
   "file_extension": ".py",
   "mimetype": "text/x-python",
   "name": "python",
   "nbconvert_exporter": "python",
   "pygments_lexer": "ipython3",
   "version": "3.11.11"
  }
 },
 "nbformat": 4,
 "nbformat_minor": 5
}
